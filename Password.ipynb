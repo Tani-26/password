{
 "cells": [
  {
   "cell_type": "code",
   "execution_count": 9,
   "id": "2d50654a-b66b-44d2-970e-da94d3544d19",
   "metadata": {},
   "outputs": [],
   "source": [
    "import tkinter as tk\n",
    "from tkinter import messagebox\n",
    "import random\n",
    "import string\n",
    "\n",
    "def generate_password():\n",
    "    try:\n",
    "        password_length = int(length_entry.get())\n",
    "        \n",
    "        if password_length <= 0:\n",
    "            messagebox.showerror(\"Error\", \"Password length must be greater than 0\")\n",
    "            return\n",
    "        \n",
    "        characters = string.ascii_letters + string.digits + string.punctuation\n",
    "        password = ''.join(random.choice(characters) for i in range(password_length))\n",
    "        \n",
    "        # Assuming password_entry is a Tkinter Entry widget\n",
    "        password_entry.delete(0, tk.END)\n",
    "        password_entry.insert(0, password)\n",
    "    except ValueError:\n",
    "        messagebox.showerror(\"Error\", \"Please enter a valid integer for password length.\")\n",
    "\n",
    "# Example usage in a Tkinter application\n",
    "root = tk.Tk()\n",
    "\n",
    "length_label = tk.Label(root, text=\"Password Length:\")\n",
    "length_label.pack()\n",
    "\n",
    "length_entry = tk.Entry(root)\n",
    "length_entry.pack()\n",
    "\n",
    "generate_button = tk.Button(root, text=\"Generate Password\", command=generate_password)\n",
    "generate_button.pack()\n",
    "\n",
    "# Assuming password_entry is a Tkinter Entry widget where generated password will be displayed\n",
    "password_entry = tk.Entry(root)\n",
    "password_entry.pack()\n",
    "\n",
    "root.mainloop()\n"
   ]
  },
  {
   "cell_type": "code",
   "execution_count": null,
   "id": "3a4ed0e1-bdd3-4aa7-8b38-fb5f2adad91d",
   "metadata": {},
   "outputs": [],
   "source": []
  }
 ],
 "metadata": {
  "kernelspec": {
   "display_name": "Python 3 (ipykernel)",
   "language": "python",
   "name": "python3"
  },
  "language_info": {
   "codemirror_mode": {
    "name": "ipython",
    "version": 3
   },
   "file_extension": ".py",
   "mimetype": "text/x-python",
   "name": "python",
   "nbconvert_exporter": "python",
   "pygments_lexer": "ipython3",
   "version": "3.12.3"
  }
 },
 "nbformat": 4,
 "nbformat_minor": 5
}
